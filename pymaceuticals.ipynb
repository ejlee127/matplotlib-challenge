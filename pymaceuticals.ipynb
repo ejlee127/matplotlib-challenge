{
 "cells": [
  {
   "cell_type": "markdown",
   "metadata": {},
   "source": [
    "# Py(phar)maceuticals\n",
    "\n",
    "### Load Data\n",
    "\n",
    "* Load the datasets: Mouse_metadata.csv and Study_results.csv\n",
    "\n",
    "### Analysis\n",
    "\n",
    "1. [Cleaning Data](#Cleaning_Data)\n",
    "\n",
    "2. Summary for Tumor Volume vs. Treatment: [Summary Statistics](#Summary_Statistics)\n",
    "\n",
    "3. The Number of Mice for Treatment: [Bar Plot](#Bar_Plot)\n",
    "\n",
    "4. Mice Sex Distritubion: [Pie Plot](#Pie_Plot)\n",
    "\n",
    "5. Final Tumor Volume: [Box Plot](#Box_Plot)\n",
    "\n",
    "6. Tumor Volume Changes: [Line Plot](#Line_Plot)\n",
    "\n",
    "7. Weight vs. Average Tumor Volume: [Scatter Plot](#Scatter_Plot)\n",
    "\n",
    "8. Weight vs. Average Tumor Volume: [Correlation & Regression](#Regression)\n",
    "\n",
    "### Observations and Insights\n",
    "\n",
    "\n",
    "* The Summary Statistics table shows that the mice with the Remicane treatment has the smallest average tumor volume. The mice with the Capomulin treatment has the next smallest tumor volume. The standard variations of them are also smallest.\n",
    "\n",
    "    - Ramicane and Capomulin seems most promising treatments.\n",
    "    \n",
    "\n",
    "* The Bar Plot shows that, throughout the course of the study, the total number of mice with Capomulin is the most. The Ramicane treatment is ranked the second with small difference.\n",
    "\n",
    "    - Most mice treated with Capomulin and Ramicane could live much longer.\n",
    "    \n",
    "\n",
    "* The Box Plot shows that (1) The final volumes by Capumulin and Ramicane have central tendency with small IQR (2) the maximum volumes of Capumulin and Ramicane are similar to the minimum volumes of Infubinol and Ceftamin (3) the upper and lower quartiles appear similar in Capomulin and Ramicane.\n",
    "\n",
    "    - The mice treated with Capumulin or Ramicane have much smaller tumor at the final timepoint than the mice treated with Infubinol or Ceftamin. The performance of Capumulin and Ramicane seems similar.\n",
    "    \n",
    "\n",
    "* The Scatter Plot shows that the tumor size is proportional to the mice weight with positive correlation. The Pearson correlation is 0.84.\n",
    "\n",
    "    - The mice with more weight tends to have bigger tumor."
   ]
  },
  {
   "cell_type": "code",
   "execution_count": 1,
   "metadata": {},
   "outputs": [],
   "source": [
    "# Dependencies\n",
    "import matplotlib.pyplot as plt\n",
    "import pandas as pd\n",
    "import scipy.stats as st"
   ]
  },
  {
   "cell_type": "markdown",
   "metadata": {},
   "source": [
    "## Load Data"
   ]
  },
  {
   "cell_type": "code",
   "execution_count": 2,
   "metadata": {},
   "outputs": [],
   "source": [
    "# Data files\n",
    "mouse_metadata_path = \"data/Mouse_metadata.csv\"\n",
    "study_results_path = \"data/Study_results.csv\"\n",
    "\n",
    "# Read the mouse data and the study results\n",
    "mouse_metadata = pd.read_csv(mouse_metadata_path)\n",
    "study_results = pd.read_csv(study_results_path)"
   ]
  },
  {
   "cell_type": "code",
   "execution_count": 3,
   "metadata": {},
   "outputs": [
    {
     "name": "stdout",
     "output_type": "stream",
     "text": [
      "* The number of rows is 249\n",
      "\n",
      "* The numbers of unique items are\n",
      "Mouse ID        249\n",
      "Drug Regimen     10\n",
      "Sex               2\n",
      "Age_months       24\n",
      "Weight (g)       16\n",
      "dtype: int64\n"
     ]
    },
    {
     "data": {
      "text/html": [
       "<div>\n",
       "<style scoped>\n",
       "    .dataframe tbody tr th:only-of-type {\n",
       "        vertical-align: middle;\n",
       "    }\n",
       "\n",
       "    .dataframe tbody tr th {\n",
       "        vertical-align: top;\n",
       "    }\n",
       "\n",
       "    .dataframe thead th {\n",
       "        text-align: right;\n",
       "    }\n",
       "</style>\n",
       "<table border=\"1\" class=\"dataframe\">\n",
       "  <thead>\n",
       "    <tr style=\"text-align: right;\">\n",
       "      <th></th>\n",
       "      <th>Mouse ID</th>\n",
       "      <th>Drug Regimen</th>\n",
       "      <th>Sex</th>\n",
       "      <th>Age_months</th>\n",
       "      <th>Weight (g)</th>\n",
       "    </tr>\n",
       "  </thead>\n",
       "  <tbody>\n",
       "    <tr>\n",
       "      <th>0</th>\n",
       "      <td>k403</td>\n",
       "      <td>Ramicane</td>\n",
       "      <td>Male</td>\n",
       "      <td>21</td>\n",
       "      <td>16</td>\n",
       "    </tr>\n",
       "    <tr>\n",
       "      <th>1</th>\n",
       "      <td>s185</td>\n",
       "      <td>Capomulin</td>\n",
       "      <td>Female</td>\n",
       "      <td>3</td>\n",
       "      <td>17</td>\n",
       "    </tr>\n",
       "    <tr>\n",
       "      <th>2</th>\n",
       "      <td>x401</td>\n",
       "      <td>Capomulin</td>\n",
       "      <td>Female</td>\n",
       "      <td>16</td>\n",
       "      <td>15</td>\n",
       "    </tr>\n",
       "    <tr>\n",
       "      <th>3</th>\n",
       "      <td>m601</td>\n",
       "      <td>Capomulin</td>\n",
       "      <td>Male</td>\n",
       "      <td>22</td>\n",
       "      <td>17</td>\n",
       "    </tr>\n",
       "    <tr>\n",
       "      <th>4</th>\n",
       "      <td>g791</td>\n",
       "      <td>Ramicane</td>\n",
       "      <td>Male</td>\n",
       "      <td>11</td>\n",
       "      <td>16</td>\n",
       "    </tr>\n",
       "  </tbody>\n",
       "</table>\n",
       "</div>"
      ],
      "text/plain": [
       "  Mouse ID Drug Regimen     Sex  Age_months  Weight (g)\n",
       "0     k403     Ramicane    Male          21          16\n",
       "1     s185    Capomulin  Female           3          17\n",
       "2     x401    Capomulin  Female          16          15\n",
       "3     m601    Capomulin    Male          22          17\n",
       "4     g791     Ramicane    Male          11          16"
      ]
     },
     "execution_count": 3,
     "metadata": {},
     "output_type": "execute_result"
    }
   ],
   "source": [
    "print(f\"* The number of rows is {mouse_metadata.shape[0]}\\n\")\n",
    "print(f\"* The numbers of unique items are\")\n",
    "print(mouse_metadata.nunique())\n",
    "mouse_metadata.head()"
   ]
  },
  {
   "cell_type": "code",
   "execution_count": 4,
   "metadata": {},
   "outputs": [
    {
     "name": "stdout",
     "output_type": "stream",
     "text": [
      "* The number of rows is 1893\n",
      "\n",
      "* The numbers of unique items are\n",
      "Mouse ID               249\n",
      "Timepoint               10\n",
      "Tumor Volume (mm3)    1644\n",
      "Metastatic Sites         5\n",
      "dtype: int64\n"
     ]
    },
    {
     "data": {
      "text/html": [
       "<div>\n",
       "<style scoped>\n",
       "    .dataframe tbody tr th:only-of-type {\n",
       "        vertical-align: middle;\n",
       "    }\n",
       "\n",
       "    .dataframe tbody tr th {\n",
       "        vertical-align: top;\n",
       "    }\n",
       "\n",
       "    .dataframe thead th {\n",
       "        text-align: right;\n",
       "    }\n",
       "</style>\n",
       "<table border=\"1\" class=\"dataframe\">\n",
       "  <thead>\n",
       "    <tr style=\"text-align: right;\">\n",
       "      <th></th>\n",
       "      <th>Mouse ID</th>\n",
       "      <th>Timepoint</th>\n",
       "      <th>Tumor Volume (mm3)</th>\n",
       "      <th>Metastatic Sites</th>\n",
       "    </tr>\n",
       "  </thead>\n",
       "  <tbody>\n",
       "    <tr>\n",
       "      <th>0</th>\n",
       "      <td>b128</td>\n",
       "      <td>0</td>\n",
       "      <td>45.0</td>\n",
       "      <td>0</td>\n",
       "    </tr>\n",
       "    <tr>\n",
       "      <th>1</th>\n",
       "      <td>f932</td>\n",
       "      <td>0</td>\n",
       "      <td>45.0</td>\n",
       "      <td>0</td>\n",
       "    </tr>\n",
       "    <tr>\n",
       "      <th>2</th>\n",
       "      <td>g107</td>\n",
       "      <td>0</td>\n",
       "      <td>45.0</td>\n",
       "      <td>0</td>\n",
       "    </tr>\n",
       "    <tr>\n",
       "      <th>3</th>\n",
       "      <td>a457</td>\n",
       "      <td>0</td>\n",
       "      <td>45.0</td>\n",
       "      <td>0</td>\n",
       "    </tr>\n",
       "    <tr>\n",
       "      <th>4</th>\n",
       "      <td>c819</td>\n",
       "      <td>0</td>\n",
       "      <td>45.0</td>\n",
       "      <td>0</td>\n",
       "    </tr>\n",
       "  </tbody>\n",
       "</table>\n",
       "</div>"
      ],
      "text/plain": [
       "  Mouse ID  Timepoint  Tumor Volume (mm3)  Metastatic Sites\n",
       "0     b128          0                45.0                 0\n",
       "1     f932          0                45.0                 0\n",
       "2     g107          0                45.0                 0\n",
       "3     a457          0                45.0                 0\n",
       "4     c819          0                45.0                 0"
      ]
     },
     "execution_count": 4,
     "metadata": {},
     "output_type": "execute_result"
    }
   ],
   "source": [
    "print(f\"* The number of rows is {study_results.shape[0]}\\n\")\n",
    "print(f\"* The numbers of unique items are\")\n",
    "print(study_results.nunique())\n",
    "study_results.head()"
   ]
  },
  {
   "cell_type": "markdown",
   "metadata": {},
   "source": [
    "## Analysis\n",
    "\n",
    "\n",
    "### Cleaning Data <a id='Cleaning_Data'></a>\n",
    "\n",
    "* Combine the mouse metadata and the study results data.\n",
    "* Check the duplicates and clean up the duplicated data"
   ]
  },
  {
   "cell_type": "code",
   "execution_count": 5,
   "metadata": {},
   "outputs": [],
   "source": [
    "# Combine the data into a single dataset\n",
    "all_df = pd.merge(mouse_metadata, study_results, how=\"outer\", on=\"Mouse ID\")"
   ]
  },
  {
   "cell_type": "code",
   "execution_count": 6,
   "metadata": {},
   "outputs": [
    {
     "name": "stdout",
     "output_type": "stream",
     "text": [
      "The duplicates appear in the data of g989\n"
     ]
    }
   ],
   "source": [
    "# Find the duplicates\n",
    "duplicates = all_df[all_df.duplicated(subset=[\"Mouse ID\",\"Timepoint\"], keep=False)]\n",
    "duplicated_id = duplicates['Mouse ID'].unique()\n",
    "print(f\"The duplicates appear in the data of {duplicated_id[0]}\")"
   ]
  },
  {
   "cell_type": "code",
   "execution_count": 7,
   "metadata": {},
   "outputs": [
    {
     "data": {
      "text/html": [
       "<div>\n",
       "<style scoped>\n",
       "    .dataframe tbody tr th:only-of-type {\n",
       "        vertical-align: middle;\n",
       "    }\n",
       "\n",
       "    .dataframe tbody tr th {\n",
       "        vertical-align: top;\n",
       "    }\n",
       "\n",
       "    .dataframe thead th {\n",
       "        text-align: right;\n",
       "    }\n",
       "</style>\n",
       "<table border=\"1\" class=\"dataframe\">\n",
       "  <thead>\n",
       "    <tr style=\"text-align: right;\">\n",
       "      <th></th>\n",
       "      <th>Mouse ID</th>\n",
       "      <th>Drug Regimen</th>\n",
       "      <th>Sex</th>\n",
       "      <th>Age_months</th>\n",
       "      <th>Weight (g)</th>\n",
       "      <th>Timepoint</th>\n",
       "      <th>Tumor Volume (mm3)</th>\n",
       "      <th>Metastatic Sites</th>\n",
       "    </tr>\n",
       "  </thead>\n",
       "  <tbody>\n",
       "    <tr>\n",
       "      <th>908</th>\n",
       "      <td>g989</td>\n",
       "      <td>Propriva</td>\n",
       "      <td>Female</td>\n",
       "      <td>21</td>\n",
       "      <td>26</td>\n",
       "      <td>0</td>\n",
       "      <td>45.000000</td>\n",
       "      <td>0</td>\n",
       "    </tr>\n",
       "    <tr>\n",
       "      <th>909</th>\n",
       "      <td>g989</td>\n",
       "      <td>Propriva</td>\n",
       "      <td>Female</td>\n",
       "      <td>21</td>\n",
       "      <td>26</td>\n",
       "      <td>0</td>\n",
       "      <td>45.000000</td>\n",
       "      <td>0</td>\n",
       "    </tr>\n",
       "    <tr>\n",
       "      <th>910</th>\n",
       "      <td>g989</td>\n",
       "      <td>Propriva</td>\n",
       "      <td>Female</td>\n",
       "      <td>21</td>\n",
       "      <td>26</td>\n",
       "      <td>5</td>\n",
       "      <td>48.786801</td>\n",
       "      <td>0</td>\n",
       "    </tr>\n",
       "    <tr>\n",
       "      <th>911</th>\n",
       "      <td>g989</td>\n",
       "      <td>Propriva</td>\n",
       "      <td>Female</td>\n",
       "      <td>21</td>\n",
       "      <td>26</td>\n",
       "      <td>5</td>\n",
       "      <td>47.570392</td>\n",
       "      <td>0</td>\n",
       "    </tr>\n",
       "    <tr>\n",
       "      <th>912</th>\n",
       "      <td>g989</td>\n",
       "      <td>Propriva</td>\n",
       "      <td>Female</td>\n",
       "      <td>21</td>\n",
       "      <td>26</td>\n",
       "      <td>10</td>\n",
       "      <td>51.745156</td>\n",
       "      <td>0</td>\n",
       "    </tr>\n",
       "    <tr>\n",
       "      <th>913</th>\n",
       "      <td>g989</td>\n",
       "      <td>Propriva</td>\n",
       "      <td>Female</td>\n",
       "      <td>21</td>\n",
       "      <td>26</td>\n",
       "      <td>10</td>\n",
       "      <td>49.880528</td>\n",
       "      <td>0</td>\n",
       "    </tr>\n",
       "    <tr>\n",
       "      <th>914</th>\n",
       "      <td>g989</td>\n",
       "      <td>Propriva</td>\n",
       "      <td>Female</td>\n",
       "      <td>21</td>\n",
       "      <td>26</td>\n",
       "      <td>15</td>\n",
       "      <td>51.325852</td>\n",
       "      <td>1</td>\n",
       "    </tr>\n",
       "    <tr>\n",
       "      <th>915</th>\n",
       "      <td>g989</td>\n",
       "      <td>Propriva</td>\n",
       "      <td>Female</td>\n",
       "      <td>21</td>\n",
       "      <td>26</td>\n",
       "      <td>15</td>\n",
       "      <td>53.442020</td>\n",
       "      <td>0</td>\n",
       "    </tr>\n",
       "    <tr>\n",
       "      <th>916</th>\n",
       "      <td>g989</td>\n",
       "      <td>Propriva</td>\n",
       "      <td>Female</td>\n",
       "      <td>21</td>\n",
       "      <td>26</td>\n",
       "      <td>20</td>\n",
       "      <td>55.326122</td>\n",
       "      <td>1</td>\n",
       "    </tr>\n",
       "    <tr>\n",
       "      <th>917</th>\n",
       "      <td>g989</td>\n",
       "      <td>Propriva</td>\n",
       "      <td>Female</td>\n",
       "      <td>21</td>\n",
       "      <td>26</td>\n",
       "      <td>20</td>\n",
       "      <td>54.657650</td>\n",
       "      <td>1</td>\n",
       "    </tr>\n",
       "    <tr>\n",
       "      <th>918</th>\n",
       "      <td>g989</td>\n",
       "      <td>Propriva</td>\n",
       "      <td>Female</td>\n",
       "      <td>21</td>\n",
       "      <td>26</td>\n",
       "      <td>25</td>\n",
       "      <td>56.045564</td>\n",
       "      <td>1</td>\n",
       "    </tr>\n",
       "    <tr>\n",
       "      <th>919</th>\n",
       "      <td>g989</td>\n",
       "      <td>Propriva</td>\n",
       "      <td>Female</td>\n",
       "      <td>21</td>\n",
       "      <td>26</td>\n",
       "      <td>30</td>\n",
       "      <td>59.082294</td>\n",
       "      <td>1</td>\n",
       "    </tr>\n",
       "    <tr>\n",
       "      <th>920</th>\n",
       "      <td>g989</td>\n",
       "      <td>Propriva</td>\n",
       "      <td>Female</td>\n",
       "      <td>21</td>\n",
       "      <td>26</td>\n",
       "      <td>35</td>\n",
       "      <td>62.570880</td>\n",
       "      <td>2</td>\n",
       "    </tr>\n",
       "  </tbody>\n",
       "</table>\n",
       "</div>"
      ],
      "text/plain": [
       "    Mouse ID Drug Regimen     Sex  Age_months  Weight (g)  Timepoint  \\\n",
       "908     g989     Propriva  Female          21          26          0   \n",
       "909     g989     Propriva  Female          21          26          0   \n",
       "910     g989     Propriva  Female          21          26          5   \n",
       "911     g989     Propriva  Female          21          26          5   \n",
       "912     g989     Propriva  Female          21          26         10   \n",
       "913     g989     Propriva  Female          21          26         10   \n",
       "914     g989     Propriva  Female          21          26         15   \n",
       "915     g989     Propriva  Female          21          26         15   \n",
       "916     g989     Propriva  Female          21          26         20   \n",
       "917     g989     Propriva  Female          21          26         20   \n",
       "918     g989     Propriva  Female          21          26         25   \n",
       "919     g989     Propriva  Female          21          26         30   \n",
       "920     g989     Propriva  Female          21          26         35   \n",
       "\n",
       "     Tumor Volume (mm3)  Metastatic Sites  \n",
       "908           45.000000                 0  \n",
       "909           45.000000                 0  \n",
       "910           48.786801                 0  \n",
       "911           47.570392                 0  \n",
       "912           51.745156                 0  \n",
       "913           49.880528                 0  \n",
       "914           51.325852                 1  \n",
       "915           53.442020                 0  \n",
       "916           55.326122                 1  \n",
       "917           54.657650                 1  \n",
       "918           56.045564                 1  \n",
       "919           59.082294                 1  \n",
       "920           62.570880                 2  "
      ]
     },
     "execution_count": 7,
     "metadata": {},
     "output_type": "execute_result"
    }
   ],
   "source": [
    "# Optional: Get all the data for the duplicate mouse ID. \n",
    "duplicate_data = all_df.loc[all_df['Mouse ID']==\"g989\"]\n",
    "duplicate_data"
   ]
  },
  {
   "cell_type": "code",
   "execution_count": 8,
   "metadata": {},
   "outputs": [
    {
     "name": "stdout",
     "output_type": "stream",
     "text": [
      "The number of mice in cleaned dataset is 248\n"
     ]
    }
   ],
   "source": [
    "# Create a clean DataFrame by dropping all the data by its ID.\n",
    "cleaned_df = all_df.drop(index=duplicate_data.index)\n",
    "\n",
    "# Checking the number of mice in the clean DataFrame.\n",
    "print(f\"The number of mice in cleaned dataset is {cleaned_df['Mouse ID'].nunique()}\")"
   ]
  },
  {
   "cell_type": "markdown",
   "metadata": {},
   "source": [
    "## Analysis\n",
    "\n",
    "### Summary Statistics <a id='Summary_Statistics'></a>\n",
    "\n",
    "* Summary statistics table consisting of the mean, median, variance, standard deviation, and SEM of the tumor volume for each drug regimen."
   ]
  },
  {
   "cell_type": "code",
   "execution_count": 9,
   "metadata": {},
   "outputs": [
    {
     "data": {
      "text/html": [
       "<div>\n",
       "<style scoped>\n",
       "    .dataframe tbody tr th:only-of-type {\n",
       "        vertical-align: middle;\n",
       "    }\n",
       "\n",
       "    .dataframe tbody tr th {\n",
       "        vertical-align: top;\n",
       "    }\n",
       "\n",
       "    .dataframe thead th {\n",
       "        text-align: right;\n",
       "    }\n",
       "</style>\n",
       "<table border=\"1\" class=\"dataframe\">\n",
       "  <thead>\n",
       "    <tr style=\"text-align: right;\">\n",
       "      <th></th>\n",
       "      <th>mean</th>\n",
       "      <th>median</th>\n",
       "      <th>var</th>\n",
       "      <th>std</th>\n",
       "      <th>sem</th>\n",
       "    </tr>\n",
       "  </thead>\n",
       "  <tbody>\n",
       "    <tr>\n",
       "      <th>Ramicane</th>\n",
       "      <td>40.2167</td>\n",
       "      <td>40.6732</td>\n",
       "      <td>23.4867</td>\n",
       "      <td>4.84631</td>\n",
       "      <td>0.320955</td>\n",
       "    </tr>\n",
       "    <tr>\n",
       "      <th>Capomulin</th>\n",
       "      <td>40.6757</td>\n",
       "      <td>41.5578</td>\n",
       "      <td>24.9478</td>\n",
       "      <td>4.99477</td>\n",
       "      <td>0.329346</td>\n",
       "    </tr>\n",
       "    <tr>\n",
       "      <th>Propriva</th>\n",
       "      <td>52.3209</td>\n",
       "      <td>50.4463</td>\n",
       "      <td>43.852</td>\n",
       "      <td>6.62209</td>\n",
       "      <td>0.544332</td>\n",
       "    </tr>\n",
       "    <tr>\n",
       "      <th>Ceftamin</th>\n",
       "      <td>52.5912</td>\n",
       "      <td>51.7762</td>\n",
       "      <td>39.2902</td>\n",
       "      <td>6.26819</td>\n",
       "      <td>0.469821</td>\n",
       "    </tr>\n",
       "    <tr>\n",
       "      <th>Infubinol</th>\n",
       "      <td>52.8848</td>\n",
       "      <td>51.8206</td>\n",
       "      <td>43.1287</td>\n",
       "      <td>6.56724</td>\n",
       "      <td>0.492236</td>\n",
       "    </tr>\n",
       "    <tr>\n",
       "      <th>Zoniferol</th>\n",
       "      <td>53.2365</td>\n",
       "      <td>51.8185</td>\n",
       "      <td>48.5334</td>\n",
       "      <td>6.96659</td>\n",
       "      <td>0.516398</td>\n",
       "    </tr>\n",
       "    <tr>\n",
       "      <th>Placebo</th>\n",
       "      <td>54.0336</td>\n",
       "      <td>52.2889</td>\n",
       "      <td>61.1681</td>\n",
       "      <td>7.821</td>\n",
       "      <td>0.581331</td>\n",
       "    </tr>\n",
       "    <tr>\n",
       "      <th>Stelasyn</th>\n",
       "      <td>54.2331</td>\n",
       "      <td>52.4317</td>\n",
       "      <td>59.4506</td>\n",
       "      <td>7.71042</td>\n",
       "      <td>0.573111</td>\n",
       "    </tr>\n",
       "    <tr>\n",
       "      <th>Naftisol</th>\n",
       "      <td>54.3316</td>\n",
       "      <td>52.5093</td>\n",
       "      <td>66.1735</td>\n",
       "      <td>8.13471</td>\n",
       "      <td>0.596466</td>\n",
       "    </tr>\n",
       "    <tr>\n",
       "      <th>Ketapril</th>\n",
       "      <td>55.2356</td>\n",
       "      <td>53.6987</td>\n",
       "      <td>68.5536</td>\n",
       "      <td>8.27971</td>\n",
       "      <td>0.60386</td>\n",
       "    </tr>\n",
       "  </tbody>\n",
       "</table>\n",
       "</div>"
      ],
      "text/plain": [
       "              mean   median      var      std       sem\n",
       "Ramicane   40.2167  40.6732  23.4867  4.84631  0.320955\n",
       "Capomulin  40.6757  41.5578  24.9478  4.99477  0.329346\n",
       "Propriva   52.3209  50.4463   43.852  6.62209  0.544332\n",
       "Ceftamin   52.5912  51.7762  39.2902  6.26819  0.469821\n",
       "Infubinol  52.8848  51.8206  43.1287  6.56724  0.492236\n",
       "Zoniferol  53.2365  51.8185  48.5334  6.96659  0.516398\n",
       "Placebo    54.0336  52.2889  61.1681    7.821  0.581331\n",
       "Stelasyn   54.2331  52.4317  59.4506  7.71042  0.573111\n",
       "Naftisol   54.3316  52.5093  66.1735  8.13471  0.596466\n",
       "Ketapril   55.2356  53.6987  68.5536  8.27971   0.60386"
      ]
     },
     "execution_count": 9,
     "metadata": {},
     "output_type": "execute_result"
    }
   ],
   "source": [
    "# This method is the most straightforward, creating multiple series\n",
    "# and putting them all together at the end.\n",
    "drug_list = cleaned_df['Drug Regimen'].unique()\n",
    "drug_list.sort()\n",
    "\n",
    "drug_vol_df = pd.DataFrame(index=drug_list, columns=['mean', 'median', 'var', 'std', 'sem'])\n",
    "for drug in drug_list:\n",
    "    drug_vol = cleaned_df.loc[cleaned_df['Drug Regimen']==drug, 'Tumor Volume (mm3)']\n",
    "    drug_vol_stat = drug_vol.agg(['mean', 'median', 'var', 'std', 'sem'])\n",
    "    drug_vol_df.loc[drug] = drug_vol_stat.values\n",
    "drug_vol_df.sort_values(by='mean')"
   ]
  },
  {
   "cell_type": "code",
   "execution_count": 10,
   "metadata": {
    "scrolled": true
   },
   "outputs": [
    {
     "data": {
      "text/html": [
       "<div>\n",
       "<style scoped>\n",
       "    .dataframe tbody tr th:only-of-type {\n",
       "        vertical-align: middle;\n",
       "    }\n",
       "\n",
       "    .dataframe tbody tr th {\n",
       "        vertical-align: top;\n",
       "    }\n",
       "\n",
       "    .dataframe thead th {\n",
       "        text-align: right;\n",
       "    }\n",
       "</style>\n",
       "<table border=\"1\" class=\"dataframe\">\n",
       "  <thead>\n",
       "    <tr style=\"text-align: right;\">\n",
       "      <th></th>\n",
       "      <th>mean</th>\n",
       "      <th>median</th>\n",
       "      <th>var</th>\n",
       "      <th>std</th>\n",
       "      <th>sem</th>\n",
       "    </tr>\n",
       "    <tr>\n",
       "      <th>Drug Regimen</th>\n",
       "      <th></th>\n",
       "      <th></th>\n",
       "      <th></th>\n",
       "      <th></th>\n",
       "      <th></th>\n",
       "    </tr>\n",
       "  </thead>\n",
       "  <tbody>\n",
       "    <tr>\n",
       "      <th>Ramicane</th>\n",
       "      <td>40.216745</td>\n",
       "      <td>40.673236</td>\n",
       "      <td>23.486704</td>\n",
       "      <td>4.846308</td>\n",
       "      <td>0.320955</td>\n",
       "    </tr>\n",
       "    <tr>\n",
       "      <th>Capomulin</th>\n",
       "      <td>40.675741</td>\n",
       "      <td>41.557809</td>\n",
       "      <td>24.947764</td>\n",
       "      <td>4.994774</td>\n",
       "      <td>0.329346</td>\n",
       "    </tr>\n",
       "    <tr>\n",
       "      <th>Propriva</th>\n",
       "      <td>52.320930</td>\n",
       "      <td>50.446266</td>\n",
       "      <td>43.852013</td>\n",
       "      <td>6.622085</td>\n",
       "      <td>0.544332</td>\n",
       "    </tr>\n",
       "    <tr>\n",
       "      <th>Ceftamin</th>\n",
       "      <td>52.591172</td>\n",
       "      <td>51.776157</td>\n",
       "      <td>39.290177</td>\n",
       "      <td>6.268188</td>\n",
       "      <td>0.469821</td>\n",
       "    </tr>\n",
       "    <tr>\n",
       "      <th>Infubinol</th>\n",
       "      <td>52.884795</td>\n",
       "      <td>51.820584</td>\n",
       "      <td>43.128684</td>\n",
       "      <td>6.567243</td>\n",
       "      <td>0.492236</td>\n",
       "    </tr>\n",
       "    <tr>\n",
       "      <th>Zoniferol</th>\n",
       "      <td>53.236507</td>\n",
       "      <td>51.818479</td>\n",
       "      <td>48.533355</td>\n",
       "      <td>6.966589</td>\n",
       "      <td>0.516398</td>\n",
       "    </tr>\n",
       "    <tr>\n",
       "      <th>Placebo</th>\n",
       "      <td>54.033581</td>\n",
       "      <td>52.288934</td>\n",
       "      <td>61.168083</td>\n",
       "      <td>7.821003</td>\n",
       "      <td>0.581331</td>\n",
       "    </tr>\n",
       "    <tr>\n",
       "      <th>Stelasyn</th>\n",
       "      <td>54.233149</td>\n",
       "      <td>52.431737</td>\n",
       "      <td>59.450562</td>\n",
       "      <td>7.710419</td>\n",
       "      <td>0.573111</td>\n",
       "    </tr>\n",
       "    <tr>\n",
       "      <th>Naftisol</th>\n",
       "      <td>54.331565</td>\n",
       "      <td>52.509285</td>\n",
       "      <td>66.173479</td>\n",
       "      <td>8.134708</td>\n",
       "      <td>0.596466</td>\n",
       "    </tr>\n",
       "    <tr>\n",
       "      <th>Ketapril</th>\n",
       "      <td>55.235638</td>\n",
       "      <td>53.698743</td>\n",
       "      <td>68.553577</td>\n",
       "      <td>8.279709</td>\n",
       "      <td>0.603860</td>\n",
       "    </tr>\n",
       "  </tbody>\n",
       "</table>\n",
       "</div>"
      ],
      "text/plain": [
       "                   mean     median        var       std       sem\n",
       "Drug Regimen                                                     \n",
       "Ramicane      40.216745  40.673236  23.486704  4.846308  0.320955\n",
       "Capomulin     40.675741  41.557809  24.947764  4.994774  0.329346\n",
       "Propriva      52.320930  50.446266  43.852013  6.622085  0.544332\n",
       "Ceftamin      52.591172  51.776157  39.290177  6.268188  0.469821\n",
       "Infubinol     52.884795  51.820584  43.128684  6.567243  0.492236\n",
       "Zoniferol     53.236507  51.818479  48.533355  6.966589  0.516398\n",
       "Placebo       54.033581  52.288934  61.168083  7.821003  0.581331\n",
       "Stelasyn      54.233149  52.431737  59.450562  7.710419  0.573111\n",
       "Naftisol      54.331565  52.509285  66.173479  8.134708  0.596466\n",
       "Ketapril      55.235638  53.698743  68.553577  8.279709  0.603860"
      ]
     },
     "execution_count": 10,
     "metadata": {},
     "output_type": "execute_result"
    }
   ],
   "source": [
    "# This method produces everything in a single groupby function.\n",
    "drug_vol_df2=cleaned_df.groupby('Drug Regimen')['Tumor Volume (mm3)'].agg(['mean','median','var','std','sem'])\n",
    "drug_vol_df2.sort_values(by='mean')"
   ]
  },
  {
   "cell_type": "markdown",
   "metadata": {},
   "source": [
    "## Bar Plots <a id='Bar_Plot'></a>\n",
    "\n",
    "* Showing  the number of mice per time point for each treatment regimen throughout the course of the study."
   ]
  },
  {
   "cell_type": "code",
   "execution_count": 11,
   "metadata": {},
   "outputs": [
    {
     "data": {
      "text/plain": [
       "Timepoint\n",
       "0     25\n",
       "5     25\n",
       "10    24\n",
       "15    24\n",
       "20    23\n",
       "25    23\n",
       "30    23\n",
       "35    21\n",
       "40    20\n",
       "45    20\n",
       "Name: Mouse ID, dtype: int64"
      ]
     },
     "execution_count": 11,
     "metadata": {},
     "output_type": "execute_result"
    }
   ],
   "source": [
    "# The number of mice per time point for each treatment\n",
    "mice_time_regimen = cleaned_df.groupby(['Drug Regimen','Timepoint'])['Mouse ID'].nunique()\n",
    "mice_time_regimen['Ramicane']"
   ]
  },
  {
   "cell_type": "code",
   "execution_count": 12,
   "metadata": {},
   "outputs": [
    {
     "data": {
      "text/plain": [
       "(0, 250)"
      ]
     },
     "execution_count": 12,
     "metadata": {},
     "output_type": "execute_result"
    },
    {
     "data": {
      "image/png": "[encoded data removed]",
      "text/plain": [
       "<Figure size 576x288 with 1 Axes>"
      ]
     },
     "metadata": {
      "needs_background": "light"
     },
     "output_type": "display_data"
    }
   ],
   "source": [
    "# Total number of mice for each treatment throughout the timepoints\n",
    "mice_regimen = mice_time_regimen.sum(level='Drug Regimen')\n",
    "mice_regimen.sort_values(ascending=False, inplace=True)\n",
    "\n",
    "# Generate a bar plot showing the number of mice throughout the timepoints for each treatment\n",
    "# Using dataframe.plot\n",
    "df_bar = mice_regimen.plot(kind='bar', rot='vertical', figsize=(8,4))\n",
    "df_bar.set_xlabel(\"Treated Drugs\")\n",
    "df_bar.set_ylabel(\"The Number of Mice\")\n",
    "df_bar.set_title(\"Mice Count Throughout the Course of Study for Treatments\")\n",
    "df_bar.set_xlim(-0.75, len(mice_regimen.index)-0.25)\n",
    "df_bar.set_ylim(0, 250)"
   ]
  },
  {
   "cell_type": "code",
   "execution_count": 13,
   "metadata": {},
   "outputs": [
    {
     "data": {
      "image/png": "[encoded data removed]",
      "text/plain": [
       "<Figure size 576x288 with 1 Axes>"
      ]
     },
     "metadata": {
      "needs_background": "light"
     },
     "output_type": "display_data"
    }
   ],
   "source": [
    "# Generate a bar plot showing the number of mice throughout the timepoints  for each treatment\n",
    "# Using matplot.plt\n",
    "xval = range(len(mice_regimen.index))\n",
    "plt.figure(figsize=(8,4))\n",
    "plt.bar(xval, mice_regimen.values, width=0.5)\n",
    "plt.xlabel(\"Treated Drugs\")\n",
    "plt.ylabel(\"The Number of Mice\")\n",
    "plt.title(\"Mice Count Throughout the Course of Study for Treatments\")\n",
    "plt.xticks(xval, mice_regimen.index, rotation=\"vertical\")\n",
    "plt.xlim(-0.75, len(mice_regimen.index)-0.25)\n",
    "plt.ylim(0, 250)\n",
    "plt.show()"
   ]
  },
  {
   "cell_type": "markdown",
   "metadata": {},
   "source": [
    "## Pie Plots <a id='Pie_Plot'></a>\n",
    "\n",
    "* Showing the distribution of female or male mice in the study.\n"
   ]
  },
  {
   "cell_type": "code",
   "execution_count": 14,
   "metadata": {},
   "outputs": [
    {
     "data": {
      "text/plain": [
       "Sex\n",
       "Female    123\n",
       "Male      125\n",
       "Name: Mouse ID, dtype: int64"
      ]
     },
     "execution_count": 14,
     "metadata": {},
     "output_type": "execute_result"
    }
   ],
   "source": [
    "# distribution of female versus male mice using pandas\n",
    "female_male = cleaned_df.groupby('Sex')['Mouse ID'].nunique()\n",
    "female_male"
   ]
  },
  {
   "cell_type": "code",
   "execution_count": 15,
   "metadata": {},
   "outputs": [
    {
     "data": {
      "text/plain": [
       "Text(0, 0.5, 'The Distrubution of Mice Sex')"
      ]
     },
     "execution_count": 15,
     "metadata": {},
     "output_type": "execute_result"
    },
    {
     "data": {
      "image/png": "[encoded data removed]",
      "text/plain": [
       "<Figure size 432x288 with 1 Axes>"
      ]
     },
     "metadata": {},
     "output_type": "display_data"
    }
   ],
   "source": [
    "# Generate a pie plot showing the distribution of female versus male mice using dataframe plot\n",
    "pie_chart = female_male.plot(kind='pie', y=female_male.values, autopct='%1.1f%%', shadow=True)\n",
    "pie_chart.set_ylabel(\"The Distrubution of Mice Sex\")"
   ]
  },
  {
   "cell_type": "code",
   "execution_count": 16,
   "metadata": {},
   "outputs": [
    {
     "data": {
      "image/png": "[encoded data removed]",
      "text/plain": [
       "<Figure size 432x288 with 1 Axes>"
      ]
     },
     "metadata": {},
     "output_type": "display_data"
    }
   ],
   "source": [
    "# Generate a pie plot showing the distribution of female versus male mice using pyplot\n",
    "labels = female_male.keys()\n",
    "values = female_male.values\n",
    "plt.pie(values, labels=labels, autopct='%1.1f%%', shadow=True)\n",
    "plt.ylabel(\"The Distrubution of Mice Sex\")\n",
    "plt.axis(\"equal\")\n",
    "plt.show()"
   ]
  },
  {
   "cell_type": "markdown",
   "metadata": {},
   "source": [
    "## Quartiles, Outliers and Boxplots <a id='Box_Plot'></a>\n",
    "\n",
    "Calculate the final tumor volume of each mouse across four of the most promising treatment regimens: Capomulin, Ramicane, Infubinol, and Ceftamin. Calculate the quartiles and IQR and quantitatively determine if there are any potential outliers across all four treatment regimens."
   ]
  },
  {
   "cell_type": "code",
   "execution_count": 17,
   "metadata": {},
   "outputs": [
    {
     "data": {
      "text/html": [
       "<div>\n",
       "<style scoped>\n",
       "    .dataframe tbody tr th:only-of-type {\n",
       "        vertical-align: middle;\n",
       "    }\n",
       "\n",
       "    .dataframe tbody tr th {\n",
       "        vertical-align: top;\n",
       "    }\n",
       "\n",
       "    .dataframe thead th {\n",
       "        text-align: right;\n",
       "    }\n",
       "</style>\n",
       "<table border=\"1\" class=\"dataframe\">\n",
       "  <thead>\n",
       "    <tr style=\"text-align: right;\">\n",
       "      <th></th>\n",
       "      <th>Capomulin</th>\n",
       "      <th>Ramicane</th>\n",
       "      <th>Infubinol</th>\n",
       "      <th>Ceftamin</th>\n",
       "    </tr>\n",
       "  </thead>\n",
       "  <tbody>\n",
       "    <tr>\n",
       "      <th>0.25</th>\n",
       "      <td>32.377357</td>\n",
       "      <td>31.560470</td>\n",
       "      <td>54.048608</td>\n",
       "      <td>48.722078</td>\n",
       "    </tr>\n",
       "    <tr>\n",
       "      <th>0.5</th>\n",
       "      <td>38.125164</td>\n",
       "      <td>36.561652</td>\n",
       "      <td>60.165180</td>\n",
       "      <td>59.851956</td>\n",
       "    </tr>\n",
       "    <tr>\n",
       "      <th>0.75</th>\n",
       "      <td>40.159220</td>\n",
       "      <td>40.659006</td>\n",
       "      <td>65.525743</td>\n",
       "      <td>64.299830</td>\n",
       "    </tr>\n",
       "    <tr>\n",
       "      <th>IQR</th>\n",
       "      <td>7.781863</td>\n",
       "      <td>9.098537</td>\n",
       "      <td>11.477135</td>\n",
       "      <td>15.577752</td>\n",
       "    </tr>\n",
       "  </tbody>\n",
       "</table>\n",
       "</div>"
      ],
      "text/plain": [
       "      Capomulin   Ramicane  Infubinol   Ceftamin\n",
       "0.25  32.377357  31.560470  54.048608  48.722078\n",
       "0.5   38.125164  36.561652  60.165180  59.851956\n",
       "0.75  40.159220  40.659006  65.525743  64.299830\n",
       "IQR    7.781863   9.098537  11.477135  15.577752"
      ]
     },
     "execution_count": 17,
     "metadata": {},
     "output_type": "execute_result"
    }
   ],
   "source": [
    "# For a treatment(drug), find the tumor volume at the final time of each mouse which was treated by the drug\n",
    "def find_volume_drug(df, final_time, drug):\n",
    "    vol = []\n",
    "    for key,val in final_time[drug].items():\n",
    "        df_val = df.loc[(df[\"Mouse ID\"]==key) & (df[\"Timepoint\"]==val),'Tumor Volume (mm3)'].values\n",
    "        vol.append(df_val[0])\n",
    "    return pd.Series(vol)\n",
    "\n",
    "# Find final time for each mouse\n",
    "final_time = cleaned_df.groupby([\"Drug Regimen\",\"Mouse ID\"])['Timepoint'].max()\n",
    "\n",
    "# Four treatments (drug regimens)\n",
    "drug_list = ['Capomulin', 'Ramicane', 'Infubinol', 'Ceftamin']\n",
    "            \n",
    "# Set a dataframe of the final volumes for the treatments\n",
    "final_vol = pd.DataFrame({\n",
    "        drug : find_volume_drug(cleaned_df, final_time, drug)\n",
    "        for drug in drug_list})\n",
    "\n",
    "# Calculate the quartiles and IQR\n",
    "quartiles_df = final_vol.quantile([.25,.5,.75])\n",
    "iqr = quartiles_df.loc[0.75]-quartiles_df.loc[0.25]\n",
    "quartiles_df = quartiles_df.append(iqr.rename('IQR'))\n",
    "quartiles_df"
   ]
  },
  {
   "cell_type": "code",
   "execution_count": 18,
   "metadata": {},
   "outputs": [
    {
     "name": "stdout",
     "output_type": "stream",
     "text": [
      "The number of (lower, upper) outliers of Capomulin is (0,0).\n",
      "The number of (lower, upper) outliers of Ramicane is (0,0).\n",
      "The number of (lower, upper) outliers of Infubinol is (1,0).\n",
      "The number of (lower, upper) outliers of Ceftamin is (0,0).\n"
     ]
    }
   ],
   "source": [
    "# Calculate the lower bound and upper bound\n",
    "lower_b = quartiles_df.loc[0.25] - 1.5*quartiles_df.loc['IQR']\n",
    "upper_b = quartiles_df.loc[0.75] + 1.5*quartiles_df.loc['IQR']\n",
    "\n",
    "# Determine if there are any potential outliers\n",
    "for drug in quartiles_df.columns:\n",
    "    low = lower_b[drug]\n",
    "    upp = upper_b[drug]\n",
    "    lcnt = final_vol.loc[final_vol[drug]<low, drug].count()\n",
    "    ucnt = final_vol.loc[final_vol[drug]>upp, drug].count()\n",
    "    print(f\"The number of (lower, upper) outliers of {drug} is ({lcnt},{ucnt}).\")"
   ]
  },
  {
   "cell_type": "code",
   "execution_count": 19,
   "metadata": {},
   "outputs": [
    {
     "data": {
      "image/png": "[encoded data removed]",
      "text/plain": [
       "<Figure size 432x288 with 1 Axes>"
      ]
     },
     "metadata": {
      "needs_background": "light"
     },
     "output_type": "display_data"
    }
   ],
   "source": [
    "# Using Matplotlib, generate a box and whisker plot\n",
    "four_vol = [final_vol[drug] for drug in drug_list]\n",
    "outlierprops = dict(markerfacecolor='red', marker='o')\n",
    "plt.boxplot(four_vol, labels=drug_list, flierprops=outlierprops)\n",
    "plt.ylabel(\"Final Tumer Volume (mm3)\")\n",
    "plt.title(\"Final Tumer Volume for Promising Treatments\")\n",
    "plt.show()"
   ]
  },
  {
   "cell_type": "markdown",
   "metadata": {},
   "source": [
    "## Line Plot <a id='Line_Plot'></a>\n",
    "\n",
    "* Showing time point versus tumor volume for a single mouse treated with Capomulin."
   ]
  },
  {
   "cell_type": "code",
   "execution_count": 20,
   "metadata": {},
   "outputs": [
    {
     "name": "stdout",
     "output_type": "stream",
     "text": [
      "The mice treated with Capomulin are\n",
      " ['s185' 'x401' 'm601' 'f966' 'u364' 'y793' 'r554' 'm957' 't565' 'i738'\n",
      " 'w914' 'g288' 'l897' 'b742' 'b128' 'j246' 'j119' 'w150' 'v923' 'g316'\n",
      " 's710' 'l509' 'r944' 'i557' 'r157']\n"
     ]
    }
   ],
   "source": [
    "# Set a dataframe for the results of Capomulin\n",
    "capomulin_df = cleaned_df.loc[(cleaned_df['Drug Regimen']=='Capomulin')]\n",
    "\n",
    "# Find mice IDs treated with Capomulin\n",
    "mice_id_capomulin = capomulin_df['Mouse ID'].unique()\n",
    "print(f\"The mice treated with Capomulin are\\n {mice_id_capomulin}\")"
   ]
  },
  {
   "cell_type": "code",
   "execution_count": 21,
   "metadata": {},
   "outputs": [
    {
     "data": {
      "image/png": "[encoded data removed]",
      "text/plain": [
       "<Figure size 432x288 with 1 Axes>"
      ]
     },
     "metadata": {
      "needs_background": "light"
     },
     "output_type": "display_data"
    }
   ],
   "source": [
    "# Select one mouse ID, randomly,  and its data\n",
    "mouse_id = mice_id_capomulin[st.randint.rvs(0,len(mice_id_capomulin))]\n",
    "one_mouse_df = capomulin_df.loc[(capomulin_df['Mouse ID']==mouse_id)]\n",
    "\n",
    "# Generate a line plot of time point versus tumor volume for a mouse treated with Capomulin\n",
    "xval = one_mouse_df['Timepoint']\n",
    "yval = one_mouse_df['Tumor Volume (mm3)']\n",
    "plt.plot(xval,yval)\n",
    "plt.xlabel(\"Timepoint\")\n",
    "plt.ylabel(\"Tumor Volume (mm3)\")\n",
    "plt.title(f\"Capomulin Treatment for Mouse-{mouse_id}\")\n",
    "plt.xlim(0,45)\n",
    "plt.ylim(0,50)\n",
    "plt.show()"
   ]
  },
  {
   "cell_type": "markdown",
   "metadata": {},
   "source": [
    "## Scatter Plot <a id='Scatter_Plt'></a>\n",
    "\n",
    "* Plot the mouse weight versus average tumor volume for the Capomulin treatment regimen."
   ]
  },
  {
   "cell_type": "code",
   "execution_count": 22,
   "metadata": {},
   "outputs": [
    {
     "data": {
      "image/png": "[encoded data removed]",
      "text/plain": [
       "<Figure size 432x288 with 1 Axes>"
      ]
     },
     "metadata": {
      "needs_background": "light"
     },
     "output_type": "display_data"
    }
   ],
   "source": [
    "# Generate a scatter plot of, for each mouse, mouse weight versus average tumor volume for the Capomulin regimen\n",
    "capomulin_vol = capomulin_df.groupby('Mouse ID')['Tumor Volume (mm3)'].mean()\n",
    "capomulin_wt = capomulin_df.groupby('Mouse ID')['Weight (g)'].min()\n",
    "xval = capomulin_wt.values\n",
    "yval = capomulin_vol.values\n",
    "plt.scatter(xval, yval)\n",
    "plt.xlabel('Weight (g)')\n",
    "plt.ylabel('Aerage Tumor Volume (mm3)')\n",
    "plt.title('Capomulin Treatment')\n",
    "plt.tight_layout()\n",
    "plt.show()"
   ]
  },
  {
   "cell_type": "markdown",
   "metadata": {},
   "source": [
    "## Correlation and Regression <a id='Regression'></a>\n",
    "\n",
    "Calculate the correlation coefficient and linear regression model between mouse weight and average tumor volume for the Capomulin treatment. Plot the linear regression model on top of the previous scatter plot."
   ]
  },
  {
   "cell_type": "code",
   "execution_count": 23,
   "metadata": {},
   "outputs": [
    {
     "data": {
      "image/png": "[encoded data removed]",
      "text/plain": [
       "<Figure size 432x288 with 1 Axes>"
      ]
     },
     "metadata": {
      "needs_background": "light"
     },
     "output_type": "display_data"
    },
    {
     "name": "stdout",
     "output_type": "stream",
     "text": [
      "The Pearson (r, p) values are (0.84, 0.00)\n",
      "The R-square is 0.71\n",
      "The pvalue is 0.0\n"
     ]
    }
   ],
   "source": [
    "# Calculate the correlation coefficient and linear regression model \n",
    "# for mouse weight and average tumor volume for the Capomulin regimen\n",
    "(mm,cc,rr,pp,ss) = st.linregress(xval,yval)\n",
    "line_eq = \"y = \" + str(round(mm,2)) + \" x + \" + str(round(cc,2))\n",
    "est_yval = mm*xval + cc\n",
    "plt.plot(xval, est_yval, \"r-\")\n",
    "plt.scatter(xval, yval)\n",
    "plt.annotate(line_eq,(17.5,37), color=\"red\")\n",
    "plt.xlabel('Weight (g)')\n",
    "plt.ylabel('Aerage Tumor Volume (mm3)')\n",
    "plt.title('Capomulin Treatment')\n",
    "plt.tight_layout()\n",
    "plt.show()\n",
    "(pr_r, pr_p)=st.pearsonr(xval,yval)\n",
    "print(f\"The Pearson (r, p) values are ({pr_r:.2f}, {pr_p:.2f})\")\n",
    "print(\"The R-square is \" + str(round(rr**2,2)))\n",
    "print(\"The pvalue is \" + str(round(pp,2)))"
   ]
  }
 ],
 "metadata": {
  "anaconda-cloud": {},
  "kernelspec": {
   "display_name": "Python [conda env:PythonData] *",
   "language": "python",
   "name": "conda-env-PythonData-py"
  },
  "language_info": {
   "codemirror_mode": {
    "name": "ipython",
    "version": 3
   },
   "file_extension": ".py",
   "mimetype": "text/x-python",
   "name": "python",
   "nbconvert_exporter": "python",
   "pygments_lexer": "ipython3",
   "version": "3.6.10"
  }
 },
 "nbformat": 4,
 "nbformat_minor": 2
}
